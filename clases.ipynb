{
  "nbformat": 4,
  "nbformat_minor": 0,
  "metadata": {
    "colab": {
      "provenance": [],
      "authorship_tag": "ABX9TyN29Wjnjz+fIWfmQlyPYx7u",
      "include_colab_link": true
    },
    "kernelspec": {
      "name": "python3",
      "display_name": "Python 3"
    },
    "language_info": {
      "name": "python"
    }
  },
  "cells": [
    {
      "cell_type": "markdown",
      "metadata": {
        "id": "view-in-github",
        "colab_type": "text"
      },
      "source": [
        "<a href=\"https://colab.research.google.com/github/CarlosCordova2023/Clases_M4_S1_Ejer/blob/main/clases.ipynb\" target=\"_parent\"><img src=\"https://colab.research.google.com/assets/colab-badge.svg\" alt=\"Open In Colab\"/></a>"
      ]
    },
    {
      "cell_type": "code",
      "execution_count": 2,
      "metadata": {
        "colab": {
          "base_uri": "https://localhost:8080/"
        },
        "id": "Lbcf2NTHGeDx",
        "outputId": "3acfe616-d4c4-412f-ea77-336b11ddddd7"
      },
      "outputs": [
        {
          "output_type": "stream",
          "name": "stdout",
          "text": [
            "Perro: Nombre=Brando, Raza=San Bernardo, Edad=3, Peso=30kg\n",
            "Brando está comiendo.\n",
            "Brando está caminando.\n",
            "Brando está durmiendo.\n",
            "Gato: Nombre=Roll, Raza=Persa, Edad=4, Peso=3kg\n",
            "Roll está comiendo.\n",
            "Roll está caminando.\n",
            "Roll está durmiendo.\n"
          ]
        }
      ],
      "source": [
        "class Animal:\n",
        "    def __init__(self, nombre, raza, edad, peso):\n",
        "        self.nombre = nombre\n",
        "        self.raza = raza\n",
        "        self.edad = edad\n",
        "        self.peso = peso\n",
        "\n",
        "    def comer(self):\n",
        "        print(f\"{self.nombre} está comiendo.\")\n",
        "\n",
        "    def caminar(self):\n",
        "        print(f\"{self.nombre} está caminando.\")\n",
        "\n",
        "    def dormir(self):\n",
        "        print(f\"{self.nombre} está durmiendo.\")\n",
        "\n",
        "# Crear el objeto Perro\n",
        "perro = Animal(nombre=\"Brando\", raza=\"San Bernardo\", edad=3, peso=30)\n",
        "\n",
        "# Crear el objeto Gato\n",
        "gato = Animal(nombre=\"Roll\", raza=\"Persa\", edad=4, peso=3)\n",
        "\n",
        "\n",
        "print(f\"Perro: Nombre={perro.nombre}, Raza={perro.raza}, Edad={perro.edad}, Peso={perro.peso}kg\")\n",
        "perro.comer()\n",
        "perro.caminar()\n",
        "perro.dormir()\n",
        "\n",
        "print(f\"Gato: Nombre={gato.nombre}, Raza={gato.raza}, Edad={gato.edad}, Peso={gato.peso}kg\")\n",
        "gato.comer()\n",
        "gato.caminar()\n",
        "gato.dormir()\n",
        "\n"
      ]
    }
  ]
}